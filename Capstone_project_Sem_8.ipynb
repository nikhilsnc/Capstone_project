{
  "metadata": {
    "kernelspec": {
      "language": "python",
      "display_name": "Python 3",
      "name": "python3"
    },
    "language_info": {
      "name": "python",
      "version": "3.10.13",
      "mimetype": "text/x-python",
      "codemirror_mode": {
        "name": "ipython",
        "version": 3
      },
      "pygments_lexer": "ipython3",
      "nbconvert_exporter": "python",
      "file_extension": ".py"
    },
    "kaggle": {
      "accelerator": "none",
      "dataSources": [
        {
          "sourceType": "datasetVersion",
          "sourceId": 10827966,
          "datasetId": 120316,
          "databundleVersionId": 11189102
        }
      ],
      "dockerImageVersionId": 30698,
      "isInternetEnabled": true,
      "language": "python",
      "sourceType": "notebook",
      "isGpuEnabled": false
    },
    "colab": {
      "name": "Movie_rating_analysis_Sem_8",
      "provenance": [],
      "include_colab_link": true
    }
  },
  "nbformat_minor": 0,
  "nbformat": 4,
  "cells": [
    {
      "cell_type": "markdown",
      "metadata": {
        "id": "view-in-github",
        "colab_type": "text"
      },
      "source": [
        "<a href=\"https://colab.research.google.com/github/nikhilsnc/Capstone_project/blob/main/Capstone_project_Sem_8.ipynb\" target=\"_parent\"><img src=\"https://colab.research.google.com/assets/colab-badge.svg\" alt=\"Open In Colab\"/></a>"
      ]
    },
    {
      "source": [
        "# IMPORTANT: RUN THIS CELL IN ORDER TO IMPORT YOUR KAGGLE DATA SOURCES,\n",
        "# THEN FEEL FREE TO DELETE THIS CELL.\n",
        "# NOTE: THIS NOTEBOOK ENVIRONMENT DIFFERS FROM KAGGLE'S PYTHON\n",
        "# ENVIRONMENT SO THERE MAY BE MISSING LIBRARIES USED BY YOUR\n",
        "# NOTEBOOK.\n",
        "import kagglehub\n",
        "ashirwadsangwan_imdb_dataset_path = kagglehub.dataset_download('ashirwadsangwan/imdb-dataset')\n",
        "\n",
        "print('Data source import complete.')\n"
      ],
      "metadata": {
        "id": "mspmwx9gxp1V"
      },
      "cell_type": "code",
      "outputs": [],
      "execution_count": null
    },
    {
      "cell_type": "markdown",
      "source": [
        "<h1 align=\"center\"><font color='white'>MOVIE RATING ANALYSIS</font></h1>\n",
        "<h1 align=\"center\"><font color='white'>--------------------------------</font></h1>\n",
        "<h1 align=\"center\"><font color='cream'>Submitted By :</font></h1>\n",
        "<h1 align=\"center\"><font color='cream'>21BCS6617 - SRIRAMOJU NIKHIL SAI</font></h1>\n",
        "<h1 align=\"center\"><font color='cream'>21BCS6567 - BOPPANA BALA SAI</font></h1>\n",
        "<h1 align=\"center\"><font color='cream'>21BCS6587 - YAMA SAI AKSHAY</font></h1>"
      ],
      "metadata": {
        "_uuid": "0416119d-bba2-4a7f-b1cd-d11dd8297f66",
        "_cell_guid": "006c5dc9-d326-4b14-b524-f583b06916fd",
        "trusted": true,
        "id": "N43aUJaAxp1e"
      }
    },
    {
      "cell_type": "code",
      "source": [
        "import numpy as np\n",
        "import pandas as pd\n",
        "import matplotlib as plt\n",
        "import plotly.express as px\n",
        "import seaborn as sns"
      ],
      "metadata": {
        "_uuid": "c6309ab7-2837-4a8d-bbc3-c10a63bd7112",
        "_cell_guid": "333c82bc-1ec1-49bd-a8f5-b561106d697d",
        "jupyter": {
          "outputs_hidden": false
        },
        "execution": {
          "iopub.status.busy": "2025-02-25T10:21:57.89009Z",
          "iopub.execute_input": "2025-02-25T10:21:57.890384Z",
          "iopub.status.idle": "2025-02-25T10:21:59.867124Z",
          "shell.execute_reply.started": "2025-02-25T10:21:57.890353Z",
          "shell.execute_reply": "2025-02-25T10:21:59.865954Z"
        },
        "trusted": true,
        "id": "h8nUFMMtxp1k"
      },
      "outputs": [],
      "execution_count": null
    },
    {
      "cell_type": "markdown",
      "source": [
        "# Analysis\n",
        " 1. The Distrubution of movies by year from 1990-2024\n",
        " 2. What are the most popular movie genres over time?\n",
        " 3. How does a movie's runtime affect its rating?\n",
        " 4. Are there any correlations between a movie's release year and its rating?\n",
        " 5. What is the distribution of movies across different rating ranges?"
      ],
      "metadata": {
        "_uuid": "a5df7b2b-1bfd-4dd1-bf5f-26c5432e48e2",
        "_cell_guid": "027de0f6-ee61-4cf1-a82e-a0b574515c67",
        "trusted": true,
        "id": "UxxPAz0yxp1m"
      }
    },
    {
      "cell_type": "code",
      "source": [
        "#importing the data\n",
        "imdb_data = pd.read_table(r'/kaggle/input/imdb-dataset/title.basics.tsv')\n",
        "imdb_rating = pd.read_table(r'/kaggle/input/imdb-dataset/title.ratings.tsv')"
      ],
      "metadata": {
        "_uuid": "fd25556b-b85f-46e7-af00-261aabffe840",
        "_cell_guid": "f50e43ce-3b32-4a3a-8cea-b024c88f2a67",
        "jupyter": {
          "outputs_hidden": false
        },
        "execution": {
          "iopub.status.busy": "2025-02-25T10:21:59.868319Z",
          "iopub.execute_input": "2025-02-25T10:21:59.868816Z",
          "iopub.status.idle": "2025-02-25T10:22:40.648779Z",
          "shell.execute_reply.started": "2025-02-25T10:21:59.868783Z",
          "shell.execute_reply": "2025-02-25T10:22:40.647379Z"
        },
        "trusted": true,
        "id": "tT0ufIjUxp1m"
      },
      "outputs": [],
      "execution_count": null
    },
    {
      "cell_type": "markdown",
      "source": [
        "# Data Explarotory"
      ],
      "metadata": {
        "_uuid": "8b88fd3a-eebf-4133-8562-c84fb9364dda",
        "_cell_guid": "1fdbfb3b-c4ae-4e4e-88aa-96113e9c22f6",
        "trusted": true,
        "id": "r4ucbj5rxp1o"
      }
    },
    {
      "cell_type": "code",
      "source": [
        "imdb_data.head()"
      ],
      "metadata": {
        "_uuid": "ae0b4c81-1421-4a0f-9e95-f519befbe126",
        "_cell_guid": "30848ce5-65f6-4984-a8eb-4667cb51cc63",
        "jupyter": {
          "outputs_hidden": false
        },
        "execution": {
          "iopub.status.busy": "2025-02-25T10:22:40.651333Z",
          "iopub.execute_input": "2025-02-25T10:22:40.651664Z",
          "iopub.status.idle": "2025-02-25T10:22:40.678563Z",
          "shell.execute_reply.started": "2025-02-25T10:22:40.651637Z",
          "shell.execute_reply": "2025-02-25T10:22:40.677288Z"
        },
        "trusted": true,
        "id": "fRx1jL0gxp1q"
      },
      "outputs": [],
      "execution_count": null
    },
    {
      "cell_type": "code",
      "source": [
        "imdb_rating.head()"
      ],
      "metadata": {
        "_uuid": "c27e2fe8-bd53-4be4-9a53-e0aa347bcb11",
        "_cell_guid": "dba02099-2ed0-422c-a861-0a73ab08b39c",
        "jupyter": {
          "outputs_hidden": false
        },
        "execution": {
          "iopub.status.busy": "2025-02-25T10:22:40.680055Z",
          "iopub.execute_input": "2025-02-25T10:22:40.680456Z",
          "iopub.status.idle": "2025-02-25T10:22:40.694807Z",
          "shell.execute_reply.started": "2025-02-25T10:22:40.680419Z",
          "shell.execute_reply": "2025-02-25T10:22:40.693517Z"
        },
        "trusted": true,
        "id": "ZzkQQvQLxp1r"
      },
      "outputs": [],
      "execution_count": null
    },
    {
      "cell_type": "code",
      "source": [
        "print(f\"The number of rows in dataset {imdb_data.shape[0]}, and {imdb_data.shape[1]} columns\")\n",
        "print(f\"The number of rows in dataset {imdb_rating.shape[0]}, and {imdb_rating.shape[1]} columns\")"
      ],
      "metadata": {
        "_uuid": "5e18a02d-48bf-4822-bcdd-65b29d3adc53",
        "_cell_guid": "063c7d97-0d6f-4729-93cf-7ed0fe5fb33a",
        "jupyter": {
          "outputs_hidden": false
        },
        "execution": {
          "iopub.status.busy": "2025-02-25T10:22:40.696452Z",
          "iopub.execute_input": "2025-02-25T10:22:40.697104Z",
          "iopub.status.idle": "2025-02-25T10:22:40.704352Z",
          "shell.execute_reply.started": "2025-02-25T10:22:40.697068Z",
          "shell.execute_reply": "2025-02-25T10:22:40.703237Z"
        },
        "trusted": true,
        "id": "N4j7ugxixp1s"
      },
      "outputs": [],
      "execution_count": null
    },
    {
      "cell_type": "code",
      "source": [
        "imdb_data.info()"
      ],
      "metadata": {
        "_uuid": "9743cb2c-f13d-4339-bb14-678c1cb409d5",
        "_cell_guid": "8d7a55f1-4bdc-4b77-aaa1-d95c46e0e3d6",
        "jupyter": {
          "outputs_hidden": false
        },
        "execution": {
          "iopub.status.busy": "2025-02-25T10:22:40.705535Z",
          "iopub.execute_input": "2025-02-25T10:22:40.705874Z",
          "iopub.status.idle": "2025-02-25T10:22:40.738116Z",
          "shell.execute_reply.started": "2025-02-25T10:22:40.705839Z",
          "shell.execute_reply": "2025-02-25T10:22:40.736686Z"
        },
        "trusted": true,
        "id": "KGpvkpO8xp1w"
      },
      "outputs": [],
      "execution_count": null
    },
    {
      "cell_type": "code",
      "source": [
        "imdb_data = imdb_data[imdb_data['titleType'] == 'movie']\n",
        "imdb_data.head()"
      ],
      "metadata": {
        "_uuid": "8dbbe5b8-d7e7-4d3b-ac62-50f6d7e1fa6e",
        "_cell_guid": "3b284a7d-7ba5-4ff7-a11f-5d294bc20f78",
        "jupyter": {
          "outputs_hidden": false
        },
        "execution": {
          "iopub.status.busy": "2025-02-25T10:22:40.739652Z",
          "iopub.execute_input": "2025-02-25T10:22:40.740159Z",
          "iopub.status.idle": "2025-02-25T10:22:41.8436Z",
          "shell.execute_reply.started": "2025-02-25T10:22:40.740125Z",
          "shell.execute_reply": "2025-02-25T10:22:41.842484Z"
        },
        "trusted": true,
        "id": "JkpEu-5kxp1x"
      },
      "outputs": [],
      "execution_count": null
    },
    {
      "cell_type": "code",
      "source": [
        "imdb_data.drop('endYear',axis = 1,inplace = True)"
      ],
      "metadata": {
        "_uuid": "275bff29-6ed0-4dbf-a023-595eabf1c2cc",
        "_cell_guid": "2f6157a8-a406-4138-aa5a-18a9523fec76",
        "jupyter": {
          "outputs_hidden": false
        },
        "execution": {
          "iopub.status.busy": "2025-02-25T10:22:41.845169Z",
          "iopub.execute_input": "2025-02-25T10:22:41.845481Z",
          "iopub.status.idle": "2025-02-25T10:22:41.919054Z",
          "shell.execute_reply.started": "2025-02-25T10:22:41.845455Z",
          "shell.execute_reply": "2025-02-25T10:22:41.917866Z"
        },
        "trusted": true,
        "id": "ZsdiCORdxp1z"
      },
      "outputs": [],
      "execution_count": null
    },
    {
      "cell_type": "code",
      "source": [
        "imdb_data.shape"
      ],
      "metadata": {
        "_uuid": "87452eca-9f12-4973-baec-74a9dc2ef352",
        "_cell_guid": "d7a97f28-5aab-4ea4-9927-61af2b1df309",
        "jupyter": {
          "outputs_hidden": false
        },
        "execution": {
          "iopub.status.busy": "2025-02-25T10:22:41.922687Z",
          "iopub.execute_input": "2025-02-25T10:22:41.923084Z",
          "iopub.status.idle": "2025-02-25T10:22:41.93036Z",
          "shell.execute_reply.started": "2025-02-25T10:22:41.923054Z",
          "shell.execute_reply": "2025-02-25T10:22:41.929052Z"
        },
        "trusted": true,
        "id": "fPrKvX2bxp10"
      },
      "outputs": [],
      "execution_count": null
    },
    {
      "cell_type": "code",
      "source": [
        "imdb_data.head()"
      ],
      "metadata": {
        "_uuid": "2b96e1e5-7a52-45eb-9023-5b1f22377c70",
        "_cell_guid": "ac09497a-1144-437d-b04d-ae17ce108035",
        "jupyter": {
          "outputs_hidden": false
        },
        "execution": {
          "iopub.status.busy": "2025-02-25T10:22:41.931701Z",
          "iopub.execute_input": "2025-02-25T10:22:41.932041Z",
          "iopub.status.idle": "2025-02-25T10:22:41.950031Z",
          "shell.execute_reply.started": "2025-02-25T10:22:41.932015Z",
          "shell.execute_reply": "2025-02-25T10:22:41.94787Z"
        },
        "trusted": true,
        "id": "uNuTdZLoxp11"
      },
      "outputs": [],
      "execution_count": null
    },
    {
      "cell_type": "code",
      "source": [
        "imdb_rating.info()"
      ],
      "metadata": {
        "_uuid": "0f5bf921-c28c-43ef-a4c5-370a82511567",
        "_cell_guid": "60b3c42f-2c0a-430f-8123-ccc3992650c3",
        "jupyter": {
          "outputs_hidden": false
        },
        "execution": {
          "iopub.status.busy": "2025-02-25T10:22:41.951671Z",
          "iopub.execute_input": "2025-02-25T10:22:41.952462Z",
          "iopub.status.idle": "2025-02-25T10:22:42.04921Z",
          "shell.execute_reply.started": "2025-02-25T10:22:41.952428Z",
          "shell.execute_reply": "2025-02-25T10:22:42.047921Z"
        },
        "trusted": true,
        "id": "O5VuBp5rxp16"
      },
      "outputs": [],
      "execution_count": null
    },
    {
      "cell_type": "markdown",
      "source": [
        "# 1.The Distrubution of movies by year from 1990-2024"
      ],
      "metadata": {
        "_uuid": "4ee5c920-450a-4e81-ae52-792f95c23225",
        "_cell_guid": "6befe227-9500-4ad6-a23f-96e12e9bed80",
        "trusted": true,
        "id": "6bonnEyYxp17"
      }
    },
    {
      "cell_type": "code",
      "source": [
        "imdb_data_year = imdb_data['startYear'].value_counts().sort_values(ascending=False).to_frame()\n",
        "imdb_data_year.reset_index(inplace=True)"
      ],
      "metadata": {
        "_uuid": "9e5bb1f2-f64d-490f-9bea-8011725cfe07",
        "_cell_guid": "9ef5eb31-0563-4bd1-81d8-cd117ced52bd",
        "jupyter": {
          "outputs_hidden": false
        },
        "execution": {
          "iopub.status.busy": "2025-02-25T10:22:42.050749Z",
          "iopub.execute_input": "2025-02-25T10:22:42.051423Z",
          "iopub.status.idle": "2025-02-25T10:22:42.113277Z",
          "shell.execute_reply.started": "2025-02-25T10:22:42.051382Z",
          "shell.execute_reply": "2025-02-25T10:22:42.111934Z"
        },
        "trusted": true,
        "id": "QzmJKbhBxp18"
      },
      "outputs": [],
      "execution_count": null
    },
    {
      "cell_type": "code",
      "source": [
        " imdb_data_year.columns.values[0] = 'year'\n",
        "imdb_data_year.columns.values[1] = 'num_of_films'\n",
        "imdb_data_year = imdb_data_year.drop(0)"
      ],
      "metadata": {
        "execution": {
          "iopub.status.busy": "2025-02-25T10:22:42.114866Z",
          "iopub.execute_input": "2025-02-25T10:22:42.115195Z",
          "iopub.status.idle": "2025-02-25T10:22:42.130941Z",
          "shell.execute_reply.started": "2025-02-25T10:22:42.115169Z",
          "shell.execute_reply": "2025-02-25T10:22:42.129384Z"
        },
        "trusted": true,
        "id": "XMheMz6nxp18"
      },
      "outputs": [],
      "execution_count": null
    },
    {
      "cell_type": "code",
      "source": [
        "imdb_data_year['year'] = imdb_data_year['year'].astype(int)\n",
        "\n",
        "imdb_data_year = imdb_data_year[(imdb_data_year['year'] >= 1990) & (imdb_data_year['year'] <= 2024)]\n",
        "\n",
        "print(imdb_data_year.head(7))"
      ],
      "metadata": {
        "execution": {
          "iopub.status.busy": "2025-02-25T10:22:42.132939Z",
          "iopub.execute_input": "2025-02-25T10:22:42.1334Z",
          "iopub.status.idle": "2025-02-25T10:22:42.150073Z",
          "shell.execute_reply.started": "2025-02-25T10:22:42.133361Z",
          "shell.execute_reply": "2025-02-25T10:22:42.148776Z"
        },
        "trusted": true,
        "id": "bA6iAGD0xp18"
      },
      "outputs": [],
      "execution_count": null
    },
    {
      "cell_type": "code",
      "source": [
        "# Plotting the data\n",
        "fig = px.bar(imdb_data_year, x='year', y='num_of_films', color='num_of_films',\n",
        "              labels={'year': 'Release Year', 'num_of_films': 'Total Movies'},\n",
        "              title='Distribution of Movies by Release Year', template='presentation')\n",
        "fig.show()\n"
      ],
      "metadata": {
        "execution": {
          "iopub.status.busy": "2025-02-25T10:22:42.151702Z",
          "iopub.execute_input": "2025-02-25T10:22:42.152859Z",
          "iopub.status.idle": "2025-02-25T10:22:43.257511Z",
          "shell.execute_reply.started": "2025-02-25T10:22:42.152795Z",
          "shell.execute_reply": "2025-02-25T10:22:43.256308Z"
        },
        "trusted": true,
        "id": "gPYvRO8sxp19"
      },
      "outputs": [],
      "execution_count": null
    },
    {
      "cell_type": "code",
      "source": [
        "total_movies = imdb_data_year['num_of_films'].sum()\n",
        "average_movies_per_year = imdb_data_year['num_of_films'].mean()\n",
        "most_prolific_year = imdb_data_year.loc[imdb_data_year['num_of_films'].idxmax()]\n",
        "\n",
        "print(\"\\n--- Insights ---\")\n",
        "print(f\"Total number of movies released between 1990 and 2024: {total_movies}\")\n",
        "print(f\"Average number of movies released per year: {average_movies_per_year:.2f}\")\n",
        "print(f\"The year with the most movie releases is {most_prolific_year['year']} with {most_prolific_year['num_of_films']} movies.\")"
      ],
      "metadata": {
        "execution": {
          "iopub.status.busy": "2025-02-25T10:22:43.258972Z",
          "iopub.execute_input": "2025-02-25T10:22:43.259297Z",
          "iopub.status.idle": "2025-02-25T10:22:43.267331Z",
          "shell.execute_reply.started": "2025-02-25T10:22:43.259272Z",
          "shell.execute_reply": "2025-02-25T10:22:43.266202Z"
        },
        "trusted": true,
        "id": "sJ664XBgxp19"
      },
      "outputs": [],
      "execution_count": null
    },
    {
      "cell_type": "markdown",
      "source": [
        "# 2.What are the most popular movie genres over time?"
      ],
      "metadata": {
        "_uuid": "3c61682e-faa8-473e-8eac-74abd8f79245",
        "_cell_guid": "67b5cf95-5ae2-462c-a759-013644397b1a",
        "trusted": true,
        "id": "9UlxbFdJxp2A"
      }
    },
    {
      "cell_type": "code",
      "source": [
        "imdb_genre = imdb_data.filter(items=['genres'], axis=1)\n",
        "imdb_genre_count = imdb_genre.groupby('genres').size().reset_index(name='genre_count')\n",
        "imdb_genre_count.dropna(inplace=True)\n",
        "imdb_genre_count.reset_index(drop=True, inplace=True)\n",
        "\n",
        "imdb_genre_count = imdb_genre_count.sort_values(by='genre_count', ascending=False).head(6)\n"
      ],
      "metadata": {
        "_uuid": "1fb06aa5-e50d-4654-b3dd-d2da3b72162c",
        "_cell_guid": "e10063ea-2abc-4039-bbf9-ba15a64ab0c5",
        "jupyter": {
          "outputs_hidden": false
        },
        "execution": {
          "iopub.status.busy": "2025-02-25T10:22:43.268526Z",
          "iopub.execute_input": "2025-02-25T10:22:43.268906Z",
          "iopub.status.idle": "2025-02-25T10:22:43.361164Z",
          "shell.execute_reply.started": "2025-02-25T10:22:43.268875Z",
          "shell.execute_reply": "2025-02-25T10:22:43.360001Z"
        },
        "trusted": true,
        "id": "M6UhnIkRxp2B"
      },
      "outputs": [],
      "execution_count": null
    },
    {
      "cell_type": "code",
      "source": [
        "fig = px.bar(imdb_genre_count,\n",
        "             x='genres',\n",
        "             y='genre_count',\n",
        "             color='genre_count',\n",
        "             template='presentation',\n",
        "             labels={'genre_count': 'Number of Movies'},\n",
        "             title='Popular Genres by Number of Movies',\n",
        "             height=700,\n",
        "             width=1100)\n",
        "\n",
        "fig.update_layout(xaxis_tickangle=0)\n",
        "fig.show()"
      ],
      "metadata": {
        "execution": {
          "iopub.status.busy": "2025-02-25T10:22:43.362395Z",
          "iopub.execute_input": "2025-02-25T10:22:43.36268Z",
          "iopub.status.idle": "2025-02-25T10:22:43.413957Z",
          "shell.execute_reply.started": "2025-02-25T10:22:43.362658Z",
          "shell.execute_reply": "2025-02-25T10:22:43.412672Z"
        },
        "trusted": true,
        "id": "wURXlWBoxp2C"
      },
      "outputs": [],
      "execution_count": null
    },
    {
      "cell_type": "code",
      "source": [
        "fig_pie = px.pie(imdb_genre_count,\n",
        "                 names='genres',\n",
        "                 values='genre_count',\n",
        "                 title='Genre Distribution',\n",
        "                 template='presentation',\n",
        "                 color='genres')\n",
        "fig_pie.update_traces(textinfo='percent+label', pull=[0.1, 0, 0, 0, 0, 0])\n",
        "fig_pie.show()"
      ],
      "metadata": {
        "execution": {
          "iopub.status.busy": "2025-02-25T10:22:43.415404Z",
          "iopub.execute_input": "2025-02-25T10:22:43.415813Z",
          "iopub.status.idle": "2025-02-25T10:22:43.48581Z",
          "shell.execute_reply.started": "2025-02-25T10:22:43.415776Z",
          "shell.execute_reply": "2025-02-25T10:22:43.484666Z"
        },
        "trusted": true,
        "id": "JV9W5SCrxp2D"
      },
      "outputs": [],
      "execution_count": null
    },
    {
      "cell_type": "code",
      "source": [
        "imdb_genres_rating = {\n",
        "    'primaryTitle': imdb_data['primaryTitle'],\n",
        "    'genres': imdb_data['genres'],\n",
        "    'averageRating': imdb_rating['averageRating']\n",
        "}\n",
        "\n",
        "rating_genre = pd.DataFrame(imdb_genres_rating)\n",
        "rating_genre.dropna(inplace=True)"
      ],
      "metadata": {
        "execution": {
          "iopub.status.busy": "2025-02-25T10:22:43.4871Z",
          "iopub.execute_input": "2025-02-25T10:22:43.487386Z",
          "iopub.status.idle": "2025-02-25T10:22:44.124699Z",
          "shell.execute_reply.started": "2025-02-25T10:22:43.487363Z",
          "shell.execute_reply": "2025-02-25T10:22:44.123668Z"
        },
        "trusted": true,
        "id": "wgh2sfsXxp2D"
      },
      "outputs": [],
      "execution_count": null
    },
    {
      "cell_type": "code",
      "source": [
        "rating_genre_cc = rating_genre[\n",
        "    (rating_genre['genres'] == 'Action') |\n",
        "    (rating_genre['genres'] == 'Documentary') |\n",
        "    (rating_genre['genres'] == 'Comedy') |\n",
        "    (rating_genre['genres'] == 'Horror') |\n",
        "    (rating_genre['genres'] == 'Drama') |\n",
        "    (rating_genre['genres'] == 'Thriller')\n",
        "]\n",
        "\n",
        "rating_genre_cc = rating_genre_cc.groupby(['genres'])['averageRating'].mean().to_frame()\n",
        "rating_genre_cc = rating_genre_cc.sort_values(by='averageRating', ascending=False).reset_index()"
      ],
      "metadata": {
        "execution": {
          "iopub.status.busy": "2025-02-25T10:22:44.12632Z",
          "iopub.execute_input": "2025-02-25T10:22:44.126727Z",
          "iopub.status.idle": "2025-02-25T10:22:44.274267Z",
          "shell.execute_reply.started": "2025-02-25T10:22:44.12669Z",
          "shell.execute_reply": "2025-02-25T10:22:44.272912Z"
        },
        "trusted": true,
        "id": "QaU0-O-Yxp2E"
      },
      "outputs": [],
      "execution_count": null
    },
    {
      "cell_type": "code",
      "source": [
        "fig_rating = px.bar(rating_genre_cc,\n",
        "                    x='genres',\n",
        "                    y='averageRating',\n",
        "                    color='averageRating',\n",
        "                    template='presentation',\n",
        "                    labels={'averageRating': 'Average Rating'},\n",
        "                    title='Popular Genres by Average Rating',\n",
        "                    height=600,\n",
        "                    width=1000)\n",
        "\n",
        "fig_rating.show()"
      ],
      "metadata": {
        "execution": {
          "iopub.status.busy": "2025-02-25T10:22:44.275816Z",
          "iopub.execute_input": "2025-02-25T10:22:44.276312Z",
          "iopub.status.idle": "2025-02-25T10:22:44.320107Z",
          "shell.execute_reply.started": "2025-02-25T10:22:44.276273Z",
          "shell.execute_reply": "2025-02-25T10:22:44.318802Z"
        },
        "trusted": true,
        "id": "FKbJKjVPxp2E"
      },
      "outputs": [],
      "execution_count": null
    },
    {
      "cell_type": "code",
      "source": [
        "rating_genre['genre_code'] = rating_genre['genres'].astype('category').cat.codes\n",
        "correlation = rating_genre[['genre_code', 'averageRating']].corr()\n",
        "\n",
        "print(\"\\n--- Correlation Analysis ---\")\n",
        "print(correlation)\n",
        "\n",
        "correlation_value = correlation.loc['genre_code', 'averageRating']\n",
        "print(f\"\\nThe correlation between genre and average rating is {correlation_value:.2f}.\")\n",
        "if correlation_value > 0.5:\n",
        "    print(\"There is a strong positive correlation between genre and rating. Some genres tend to have higher ratings.\")\n",
        "elif correlation_value < -0.5:\n",
        "    print(\"There is a strong negative correlation, meaning some genres tend to have lower ratings.\")\n",
        "else:\n",
        "    print(\"There is no strong correlation between genre and rating. Ratings are mostly independent of genre.\")\n",
        "\n"
      ],
      "metadata": {
        "execution": {
          "iopub.status.busy": "2025-02-25T10:22:44.32142Z",
          "iopub.execute_input": "2025-02-25T10:22:44.321761Z",
          "iopub.status.idle": "2025-02-25T10:22:44.362807Z",
          "shell.execute_reply.started": "2025-02-25T10:22:44.321733Z",
          "shell.execute_reply": "2025-02-25T10:22:44.361628Z"
        },
        "trusted": true,
        "id": "hVscZEj_xp2F"
      },
      "outputs": [],
      "execution_count": null
    },
    {
      "cell_type": "markdown",
      "source": [
        "# 3. Impact of Movie Classification (Adult vs. Non-Adult) on Viewer Ratings"
      ],
      "metadata": {
        "id": "2o3pFc4Fxp2F"
      }
    },
    {
      "cell_type": "code",
      "source": [
        "import pandas as pd\n",
        "import plotly.express as px\n",
        "from scipy import stats\n",
        "\n",
        "run_rate = pd.DataFrame({\n",
        "    'isAdult': imdb_data['isAdult'],\n",
        "    'average_rating': imdb_rating['averageRating']\n",
        "})\n",
        "run_rate.dropna(subset=['isAdult', 'average_rating'], inplace=True)\n",
        "run_rate['isAdult'] = run_rate['isAdult'].astype(int)\n",
        "avg_rating_by_adult = run_rate.groupby('isAdult')['average_rating'].mean()\n",
        "avg_rating_by_adult.index = avg_rating_by_adult.index.map({0: 'Non-Adult', 1: 'Adult'})\n",
        "\n"
      ],
      "metadata": {
        "execution": {
          "iopub.status.busy": "2025-02-25T10:22:44.364074Z",
          "iopub.execute_input": "2025-02-25T10:22:44.364384Z",
          "iopub.status.idle": "2025-02-25T10:22:44.707448Z",
          "shell.execute_reply.started": "2025-02-25T10:22:44.364358Z",
          "shell.execute_reply": "2025-02-25T10:22:44.706382Z"
        },
        "trusted": true,
        "id": "wl7xgOvpxp2F"
      },
      "outputs": [],
      "execution_count": null
    },
    {
      "cell_type": "code",
      "source": [
        "fig = px.bar(avg_rating_by_adult,\n",
        "             x=avg_rating_by_adult.index,\n",
        "             y=avg_rating_by_adult.values,\n",
        "             color=avg_rating_by_adult.values,\n",
        "             template='presentation',\n",
        "             labels={'x': 'Movie Type', 'y': 'Average Rating'},\n",
        "             title='Average Movie Rating by Adult Content')\n",
        "fig.show()\n",
        "non_adult_ratings = run_rate[run_rate['isAdult'] == 0]['average_rating']\n",
        "adult_ratings = run_rate[run_rate['isAdult'] == 1]['average_rating']\n",
        "\n",
        "t_stat, p_value = stats.ttest_ind(non_adult_ratings, adult_ratings, equal_var=False)\n",
        "print(f\"T-statistic: {t_stat:.2f}, P-value: {p_value:.3f}\")\n",
        "print(\"Conclusions:\")\n",
        "if p_value < 0.05:\n",
        "    print(\"The difference in average ratings between adult and non-adult movies is statistically significant.\")\n",
        "    if avg_rating_by_adult['Adult'] > avg_rating_by_adult['Non-Adult']:\n",
        "        print(\"Adult movies tend to receive higher ratings, suggesting a strong preference from their specific audience.\")\n",
        "    else:\n",
        "        print(\"Non-adult movies tend to receive higher ratings, indicating a broader audience's more favorable view.\")\n",
        "else:\n",
        "    print(\"The difference in average ratings between adult and non-adult movies is not statistically significant.\")\n",
        "    print(\"This suggests that the presence of adult content does not significantly affect the average ratings of movies.\")"
      ],
      "metadata": {
        "execution": {
          "iopub.status.busy": "2025-02-25T10:22:44.708739Z",
          "iopub.execute_input": "2025-02-25T10:22:44.709074Z",
          "iopub.status.idle": "2025-02-25T10:22:44.770448Z",
          "shell.execute_reply.started": "2025-02-25T10:22:44.709051Z",
          "shell.execute_reply": "2025-02-25T10:22:44.76931Z"
        },
        "trusted": true,
        "id": "TwJs5l1sxp2G"
      },
      "outputs": [],
      "execution_count": null
    },
    {
      "cell_type": "markdown",
      "source": [
        "# 4. Analysis of Year vs. Rating (Trend Over Time):"
      ],
      "metadata": {
        "id": "PIFco11Ixp2H"
      }
    },
    {
      "cell_type": "code",
      "source": [
        "import pandas as pd\n",
        "import plotly.express as px\n",
        "from sklearn.linear_model import LinearRegression\n",
        "\n",
        "movie_data = pd.DataFrame({\n",
        "    'startYear': imdb_data['startYear'],\n",
        "    'average_rating': imdb_rating['averageRating']\n",
        "})\n",
        "\n",
        "movie_data['startYear'] = pd.to_numeric(movie_data['startYear'], errors='coerce')\n",
        "movie_data['average_rating'] = pd.to_numeric(movie_data['average_rating'], errors='coerce')\n",
        "movie_data.dropna(subset=['startYear', 'average_rating'], inplace=True)\n",
        "avg_rating_by_year = movie_data.groupby('startYear')['average_rating'].mean().reset_index()"
      ],
      "metadata": {
        "execution": {
          "iopub.status.busy": "2025-02-25T10:22:44.771689Z",
          "iopub.execute_input": "2025-02-25T10:22:44.77201Z",
          "iopub.status.idle": "2025-02-25T10:22:45.927036Z",
          "shell.execute_reply.started": "2025-02-25T10:22:44.771984Z",
          "shell.execute_reply": "2025-02-25T10:22:45.925378Z"
        },
        "trusted": true,
        "id": "ydxH_egIxp2H"
      },
      "outputs": [],
      "execution_count": null
    },
    {
      "cell_type": "code",
      "source": [
        "fig = px.line(avg_rating_by_year,\n",
        "              x='startYear',\n",
        "              y='average_rating',\n",
        "              title='Average Movie Rating by Year',\n",
        "              labels={'startYear': 'Year', 'average_rating': 'Average Rating'},\n",
        "              template='presentation')\n",
        "fig.update_layout(\n",
        "    xaxis_title=\"Year\",\n",
        "    yaxis_title=\"Average Rating\",\n",
        "    height=500,\n",
        "    width=900\n",
        ")\n",
        "fig.show()"
      ],
      "metadata": {
        "execution": {
          "iopub.status.busy": "2025-02-25T10:22:45.931858Z",
          "iopub.execute_input": "2025-02-25T10:22:45.932204Z",
          "iopub.status.idle": "2025-02-25T10:22:45.994847Z",
          "shell.execute_reply.started": "2025-02-25T10:22:45.93218Z",
          "shell.execute_reply": "2025-02-25T10:22:45.993431Z"
        },
        "trusted": true,
        "id": "yIRNPSS1xp2I"
      },
      "outputs": [],
      "execution_count": null
    },
    {
      "cell_type": "code",
      "source": [
        "correlation = movie_data['startYear'].corr(movie_data['average_rating'])\n",
        "print(f\"Correlation between Year and Rating: {correlation:.3f}\")\n",
        "\n",
        "year_bins = [1890, 1900, 1910, 1920, 1930, 1940, 1950, 1960, 1970, 1980, 1990, 2000, 2010, 2020]\n",
        "year_labels = ['1890s', '1900s', '1910s', '1920s', '1930s', '1940s', '1950s', '1960s', '1970s', '1980s', '1990s', '2000s', '2010s']\n",
        "movie_data['year_group'] = pd.cut(movie_data['startYear'], bins=year_bins, labels=year_labels, right=False)\n",
        "rating_by_group = movie_data.groupby('year_group')['average_rating'].mean().reset_index()"
      ],
      "metadata": {
        "execution": {
          "iopub.status.busy": "2025-02-25T10:22:45.99646Z",
          "iopub.execute_input": "2025-02-25T10:22:45.996893Z",
          "iopub.status.idle": "2025-02-25T10:22:46.026954Z",
          "shell.execute_reply.started": "2025-02-25T10:22:45.996853Z",
          "shell.execute_reply": "2025-02-25T10:22:46.025886Z"
        },
        "trusted": true,
        "id": "8LPYe-Okxp2I"
      },
      "outputs": [],
      "execution_count": null
    },
    {
      "cell_type": "code",
      "source": [
        "fig = px.pie(rating_by_group,\n",
        "             names='year_group',\n",
        "             values='average_rating',\n",
        "             title='Average Movie Rating Distribution by Year Group',\n",
        "             template='plotly')\n",
        "fig.update_layout(height=500, width=900)\n",
        "fig.show()"
      ],
      "metadata": {
        "execution": {
          "iopub.status.busy": "2025-02-25T10:22:46.028347Z",
          "iopub.execute_input": "2025-02-25T10:22:46.028761Z",
          "iopub.status.idle": "2025-02-25T10:22:47.02104Z",
          "shell.execute_reply.started": "2025-02-25T10:22:46.028723Z",
          "shell.execute_reply": "2025-02-25T10:22:47.019781Z"
        },
        "trusted": true,
        "id": "xtZfgTLPxp2I"
      },
      "outputs": [],
      "execution_count": null
    },
    {
      "cell_type": "code",
      "source": [
        "X = movie_data['startYear'].values.reshape(-1, 1)\n",
        "y = movie_data['average_rating'].values\n",
        "model = LinearRegression()\n",
        "model.fit(X, y)\n",
        "predicted_rating = model.predict(X)"
      ],
      "metadata": {
        "execution": {
          "iopub.status.busy": "2025-02-25T10:22:47.022333Z",
          "iopub.execute_input": "2025-02-25T10:22:47.022689Z",
          "iopub.status.idle": "2025-02-25T10:22:47.06495Z",
          "shell.execute_reply.started": "2025-02-25T10:22:47.022661Z",
          "shell.execute_reply": "2025-02-25T10:22:47.06377Z"
        },
        "trusted": true,
        "id": "ahEmE5HPxp2J"
      },
      "outputs": [],
      "execution_count": null
    },
    {
      "cell_type": "code",
      "source": [
        "print(\"\\nRegression Analysis Insights:\")\n",
        "print(f\"The regression line equation is: Average Rating = {model.intercept_:.3f} + {model.coef_[0]:.3f} * Year\")\n",
        "print(f\"The model's slope is {model.coef_[0]:.3f}, meaning for each additional year, the average rating increases by this value.\")\n",
        "print(f\"The intercept is {model.intercept_:.3f}, indicating the estimated average rating at the year 0 (though not realistic, it's part of the regression formula).\")\n",
        "\n",
        "print(\"\\nConclusions:\")\n",
        "if correlation > 0:\n",
        "    print(\"1. There is a positive correlation between the year of release and movie ratings, suggesting that newer movies tend to have higher ratings.\")\n",
        "elif correlation < 0:\n",
        "    print(\"1. There is a negative correlation between the year of release and movie ratings, suggesting that newer movies tend to have lower ratings.\")\n",
        "else:\n",
        "    print(\"1. There is no significant correlation between the year of release and movie ratings, indicating that ratings are not influenced by the year.\")\n",
        "\n",
        "if model.coef_ > 0:\n",
        "    print(\"2. The regression line shows an increasing trend in ratings over time, suggesting that movie ratings have improved over the years.\")\n",
        "else:\n",
        "    print(\"2. The regression line shows a decreasing trend in ratings over time, suggesting that newer movies may be receiving lower ratings.\")"
      ],
      "metadata": {
        "execution": {
          "iopub.status.busy": "2025-02-25T10:22:47.066637Z",
          "iopub.execute_input": "2025-02-25T10:22:47.06705Z",
          "iopub.status.idle": "2025-02-25T10:22:47.075191Z",
          "shell.execute_reply.started": "2025-02-25T10:22:47.067016Z",
          "shell.execute_reply": "2025-02-25T10:22:47.073801Z"
        },
        "trusted": true,
        "id": "f0uTV7MQxp2J"
      },
      "outputs": [],
      "execution_count": null
    },
    {
      "cell_type": "code",
      "source": [
        "\n",
        "fig = px.scatter(movie_data, x='startYear', y='average_rating',\n",
        "                 title='Regression Line for Movie Ratings by Year',\n",
        "                 labels={'startYear': 'Year', 'average_rating': 'Average Rating'})\n",
        "\n",
        "fig.add_scatter(x=movie_data['startYear'], y=predicted_rating, mode='lines', name='Regression Line', line=dict(color='red'))\n",
        "\n",
        "\n",
        "fig.update_layout(\n",
        "    xaxis_title=\"Year\",\n",
        "    yaxis_title=\"Average Rating\",\n",
        "    height=600,\n",
        "    width=900\n",
        ")\n",
        "fig.show()"
      ],
      "metadata": {
        "execution": {
          "iopub.status.busy": "2025-02-25T10:22:47.076481Z",
          "iopub.execute_input": "2025-02-25T10:22:47.076977Z",
          "iopub.status.idle": "2025-02-25T10:22:47.372646Z",
          "shell.execute_reply.started": "2025-02-25T10:22:47.076947Z",
          "shell.execute_reply": "2025-02-25T10:22:47.371028Z"
        },
        "trusted": true,
        "id": "zj75aA7cxp2T"
      },
      "outputs": [],
      "execution_count": null
    },
    {
      "cell_type": "markdown",
      "source": [
        "# 5. Are there any correlations between a movie's release year, runtime and its rating?"
      ],
      "metadata": {
        "_uuid": "fdacdb49-20d7-40b1-a182-08b623929bb7",
        "_cell_guid": "145f555e-953b-4cae-b443-96eb3ec034b6",
        "trusted": true,
        "id": "5OTUyIsjxp2U"
      }
    },
    {
      "cell_type": "code",
      "source": [
        "import matplotlib.pyplot as plt\n",
        "\n",
        "data = {\n",
        "    \"year\": imdb_data['startYear'],\n",
        "    'run_time_minute': imdb_data['runtimeMinutes'],\n",
        "    'average_rating': imdb_rating['averageRating']\n",
        "}\n",
        "\n",
        "year_run_time = pd.DataFrame(data)\n",
        "year_run_time.dropna(inplace=True)\n",
        "year_run_time = year_run_time[~year_run_time.apply(lambda row: row.astype(str).str.contains(r'\\\\N').any(), axis=1)]\n",
        "year_run_corr = year_run_time.corr()"
      ],
      "metadata": {
        "_uuid": "e03382cb-b2d9-4ef3-a087-0d2436461196",
        "_cell_guid": "68dc01d8-a571-4985-9c26-1450132dddea",
        "jupyter": {
          "outputs_hidden": false
        },
        "execution": {
          "iopub.status.busy": "2025-02-25T10:22:47.37421Z",
          "iopub.execute_input": "2025-02-25T10:22:47.374592Z",
          "iopub.status.idle": "2025-02-25T10:23:55.078998Z",
          "shell.execute_reply.started": "2025-02-25T10:22:47.374564Z",
          "shell.execute_reply": "2025-02-25T10:23:55.077815Z"
        },
        "trusted": true,
        "id": "frnDOtxvxp2U"
      },
      "outputs": [],
      "execution_count": null
    },
    {
      "cell_type": "code",
      "source": [
        "plt.figure(figsize=(8, 6))\n",
        "sns.set(font_scale=1.2)\n",
        "sns.heatmap(year_run_corr, cmap='coolwarm', annot=True, fmt='.2f', linewidths=0.5, annot_kws={\"size\": 12}, cbar_kws={\"shrink\": 0.8})\n",
        "plt.title('Correlation Between Movie Year, Runtime, and Rating', fontsize=16)\n",
        "plt.show()"
      ],
      "metadata": {
        "execution": {
          "iopub.status.busy": "2025-02-25T10:23:55.080372Z",
          "iopub.execute_input": "2025-02-25T10:23:55.080722Z",
          "iopub.status.idle": "2025-02-25T10:23:55.404854Z",
          "shell.execute_reply.started": "2025-02-25T10:23:55.080694Z",
          "shell.execute_reply": "2025-02-25T10:23:55.403564Z"
        },
        "trusted": true,
        "id": "0MWgnuGhxp2V"
      },
      "outputs": [],
      "execution_count": null
    },
    {
      "cell_type": "code",
      "source": [
        "print(\"1. The correlation between Movie Release Year and Runtime is very weak: {:.2f}\".format(year_run_corr.loc['year', 'run_time_minute']))\n",
        "print(\"2. The correlation between Movie Release Year and Rating is also weak: {:.2f}\".format(year_run_corr.loc['year', 'average_rating']))\n",
        "print(\"3. The correlation between Runtime and Rating is slightly negative: {:.2f}\".format(year_run_corr.loc['run_time_minute', 'average_rating']))\n",
        "\n",
        "insights = \"\"\"\n",
        "1. The correlation between Movie Release Year and Runtime is weak, meaning that the release year does not have a significant impact on the movie's runtime.\n",
        "2. There is a very weak correlation between Release Year and Rating, suggesting that the year a movie was released does not strongly influence its rating.\n",
        "3. A slightly negative correlation exists between Movie Runtime and Rating, indicating that longer movies tend to have slightly lower ratings, but this relationship is not very strong.\n",
        "4. Based on this, we can conclude that while these factors (year, runtime, and rating) are related to some extent, there is no strong correlation between them.\n",
        "\"\"\"\n",
        "print(insights)"
      ],
      "metadata": {
        "execution": {
          "iopub.status.busy": "2025-02-25T10:23:55.406436Z",
          "iopub.execute_input": "2025-02-25T10:23:55.406782Z",
          "iopub.status.idle": "2025-02-25T10:23:55.414404Z",
          "shell.execute_reply.started": "2025-02-25T10:23:55.406754Z",
          "shell.execute_reply": "2025-02-25T10:23:55.413267Z"
        },
        "trusted": true,
        "id": "hNELzjQqxp2V"
      },
      "outputs": [],
      "execution_count": null
    },
    {
      "cell_type": "markdown",
      "source": [
        "# 6. Sentiment Analysis on Movie Titles:"
      ],
      "metadata": {
        "id": "8jUyR6_kxp2V"
      }
    },
    {
      "cell_type": "code",
      "source": [
        "import pandas as pd\n",
        "import plotly.express as px\n",
        "from textblob import TextBlob\n",
        "\n",
        "movie_data = pd.DataFrame({\n",
        "    'title': ['Happy Ending', 'The Dark Knight', 'Love Story', 'Sad Days', 'Success Forever'],\n",
        "    'average_rating': [8.0, 9.0, 7.5, 6.0, 8.5],\n",
        "    'startYear': [2000, 2008, 2010, 2011, 2015],\n",
        "    'genre': ['Romantic', 'Action', 'Romantic', 'Drama', 'Drama'],\n",
        "    'description': ['A joyful ending of love', 'A dark and thrilling adventure', 'A passionate love story', 'A sad tale of life', 'A motivational journey of success']\n",
        "})\n",
        "\n",
        "movie_data['title_sentiment'] = movie_data['title'].apply(lambda x: TextBlob(x).sentiment.polarity)\n",
        "movie_data['description_sentiment'] = movie_data['description'].apply(lambda x: TextBlob(x).sentiment.polarity)\n",
        "movie_data['avg_sentiment'] = movie_data[['title_sentiment', 'description_sentiment']].mean(axis=1)\n"
      ],
      "metadata": {
        "execution": {
          "iopub.status.busy": "2025-02-25T10:23:55.416046Z",
          "iopub.execute_input": "2025-02-25T10:23:55.416469Z",
          "iopub.status.idle": "2025-02-25T10:23:56.221302Z",
          "shell.execute_reply.started": "2025-02-25T10:23:55.416431Z",
          "shell.execute_reply": "2025-02-25T10:23:56.220164Z"
        },
        "trusted": true,
        "id": "LQBMpfSwxp2W"
      },
      "outputs": [],
      "execution_count": null
    },
    {
      "cell_type": "code",
      "source": [
        "correlation = movie_data['avg_sentiment'].corr(movie_data['average_rating'])\n",
        "print(f\"Correlation between Average Sentiment and Movie Rating: {correlation:.3f}\")\n",
        "\n",
        "fig = px.scatter(movie_data, x='avg_sentiment', y='average_rating', color='genre',\n",
        "                 title=\"Sentiment vs Movie Rating by Genre\",\n",
        "                 labels={'avg_sentiment': 'Average Sentiment Score', 'average_rating': 'Average Rating'},\n",
        "                 color_continuous_scale='Viridis', hover_data=['title', 'genre'])\n",
        "fig.show()"
      ],
      "metadata": {
        "execution": {
          "iopub.status.busy": "2025-02-25T10:23:56.223204Z",
          "iopub.execute_input": "2025-02-25T10:23:56.223546Z",
          "iopub.status.idle": "2025-02-25T10:23:56.308514Z",
          "shell.execute_reply.started": "2025-02-25T10:23:56.223518Z",
          "shell.execute_reply": "2025-02-25T10:23:56.307417Z"
        },
        "trusted": true,
        "id": "ku3kmo6Kxp2W"
      },
      "outputs": [],
      "execution_count": null
    },
    {
      "cell_type": "code",
      "source": [
        "genre_sentiment_rating = movie_data.groupby('genre')[['avg_sentiment', 'average_rating']].mean().reset_index()\n",
        "fig_genre = px.bar(genre_sentiment_rating, x='genre', y=['avg_sentiment', 'average_rating'],\n",
        "                   title=\"Average Sentiment and Rating by Genre\",\n",
        "                   labels={'avg_sentiment': 'Average Sentiment', 'average_rating': 'Average Rating'})\n",
        "fig_genre.show()"
      ],
      "metadata": {
        "execution": {
          "iopub.status.busy": "2025-02-25T10:23:56.309891Z",
          "iopub.execute_input": "2025-02-25T10:23:56.310198Z",
          "iopub.status.idle": "2025-02-25T10:23:56.377389Z",
          "shell.execute_reply.started": "2025-02-25T10:23:56.310173Z",
          "shell.execute_reply": "2025-02-25T10:23:56.376262Z"
        },
        "trusted": true,
        "id": "pQDUgIa0xp2X"
      },
      "outputs": [],
      "execution_count": null
    },
    {
      "cell_type": "code",
      "source": [
        "year_sentiment_rating = movie_data.groupby('startYear')[['avg_sentiment', 'average_rating']].mean().reset_index()\n",
        "fig_year = px.line(year_sentiment_rating, x='startYear', y=['avg_sentiment', 'average_rating'],\n",
        "                   title=\"Year-wise Average Sentiment and Rating\",\n",
        "                   labels={'startYear': 'Year', 'avg_sentiment': 'Average Sentiment', 'average_rating': 'Average Rating'})\n",
        "fig_year.show()"
      ],
      "metadata": {
        "execution": {
          "iopub.status.busy": "2025-02-25T10:23:56.378759Z",
          "iopub.execute_input": "2025-02-25T10:23:56.379195Z",
          "iopub.status.idle": "2025-02-25T10:23:56.450107Z",
          "shell.execute_reply.started": "2025-02-25T10:23:56.379155Z",
          "shell.execute_reply": "2025-02-25T10:23:56.448961Z"
        },
        "trusted": true,
        "id": "RCx09X37xp2Y"
      },
      "outputs": [],
      "execution_count": null
    },
    {
      "cell_type": "code",
      "source": [
        "print(\"\\nActionable Insights for Decision Making:\")\n",
        "\n",
        "if correlation > 0:\n",
        "    print(\"Insight 1: Positive Sentiment correlates with higher Ratings.\")\n",
        "    print(\"Recommendation: Movies with positive sentiment in their titles and descriptions tend to receive better ratings. Consider focusing on uplifting and positive content to increase audience satisfaction.\")\n",
        "elif correlation < 0:\n",
        "    print(\"Insight 1: Negative Sentiment correlates with lower Ratings.\")\n",
        "    print(\"Recommendation: If your movie titles and descriptions have a more negative sentiment, try to improve the tone to appeal to a broader audience and achieve higher ratings.\")\n",
        "else:\n",
        "    print(\"Insight 1: Sentiment does not significantly correlate with ratings.\")\n",
        "    print(\"Recommendation: Other factors such as storyline, acting, or production quality may have more influence on ratings. Consider evaluating these aspects to improve overall movie reception.\")\n"
      ],
      "metadata": {
        "execution": {
          "iopub.status.busy": "2025-02-25T10:23:56.451359Z",
          "iopub.execute_input": "2025-02-25T10:23:56.451688Z",
          "iopub.status.idle": "2025-02-25T10:23:56.458988Z",
          "shell.execute_reply.started": "2025-02-25T10:23:56.451661Z",
          "shell.execute_reply": "2025-02-25T10:23:56.457347Z"
        },
        "trusted": true,
        "id": "Ay7hr_G4xp2Y"
      },
      "outputs": [],
      "execution_count": null
    },
    {
      "cell_type": "code",
      "source": [
        "print(\"\\nInsight 2: Genre Analysis\")\n",
        "for index, row in genre_sentiment_rating.iterrows():\n",
        "    genre = row['genre']\n",
        "    sentiment = row['avg_sentiment']\n",
        "    rating = row['average_rating']\n",
        "    print(f\"- For {genre} genre, average sentiment: {sentiment:.2f}, average rating: {rating:.2f}\")\n",
        "    if sentiment > 0:\n",
        "        print(f\"  Recommendation: {genre} movies with positive sentiment tend to perform well. Keep emphasizing positive themes.\")\n",
        "    else:\n",
        "        print(f\"  Recommendation: {genre} movies with neutral or negative sentiment may benefit from changes in tone or focus on different themes.\")\n"
      ],
      "metadata": {
        "execution": {
          "iopub.status.busy": "2025-02-25T10:23:56.460561Z",
          "iopub.execute_input": "2025-02-25T10:23:56.460989Z",
          "iopub.status.idle": "2025-02-25T10:23:56.472572Z",
          "shell.execute_reply.started": "2025-02-25T10:23:56.46094Z",
          "shell.execute_reply": "2025-02-25T10:23:56.471506Z"
        },
        "trusted": true,
        "id": "hP3hO-4Jxp2Y"
      },
      "outputs": [],
      "execution_count": null
    },
    {
      "cell_type": "code",
      "source": [
        "print(\"\\nInsight 3: Trends over the Years\")\n",
        "for index, row in year_sentiment_rating.iterrows():\n",
        "    year = row['startYear']\n",
        "    sentiment = row['avg_sentiment']\n",
        "    rating = row['average_rating']\n",
        "    print(f\"- In {year}, average sentiment: {sentiment:.2f}, average rating: {rating:.2f}\")\n",
        "    if sentiment > 0:\n",
        "        print(f\"  Recommendation: Movies in {year} with positive sentiment had higher ratings. Keep focusing on creating engaging, positive narratives for the future.\")\n",
        "    else:\n",
        "        print(f\"  Recommendation: Movies in {year} with lower sentiment scores might benefit from focusing on more positive or compelling stories to increase ratings.\")\n"
      ],
      "metadata": {
        "execution": {
          "iopub.status.busy": "2025-02-25T10:23:56.473999Z",
          "iopub.execute_input": "2025-02-25T10:23:56.474384Z",
          "iopub.status.idle": "2025-02-25T10:23:56.487329Z",
          "shell.execute_reply.started": "2025-02-25T10:23:56.474348Z",
          "shell.execute_reply": "2025-02-25T10:23:56.486061Z"
        },
        "trusted": true,
        "id": "2H6TTbKJxp2Z"
      },
      "outputs": [],
      "execution_count": null
    },
    {
      "cell_type": "code",
      "source": [
        "print(\"\\nConclusion:\")\n",
        "if correlation > 0:\n",
        "    print(\"Movies with positive sentiments in titles and descriptions tend to perform better in terms of ratings. Therefore, focusing on positive, uplifting content is a promising strategy for future movie production.\")\n",
        "else:\n",
        "    print(\"There seems to be no clear correlation between sentiment and ratings. It would be worthwhile to explore other factors such as storyline quality, acting, and production to improve ratings.\")\n"
      ],
      "metadata": {
        "execution": {
          "iopub.status.busy": "2025-02-25T10:23:56.488629Z",
          "iopub.execute_input": "2025-02-25T10:23:56.489003Z",
          "iopub.status.idle": "2025-02-25T10:23:56.506377Z",
          "shell.execute_reply.started": "2025-02-25T10:23:56.48897Z",
          "shell.execute_reply": "2025-02-25T10:23:56.505263Z"
        },
        "trusted": true,
        "id": "0e1FNxjTxp2Z"
      },
      "outputs": [],
      "execution_count": null
    },
    {
      "cell_type": "markdown",
      "source": [
        "### **Final Insights & Recommendations for Decision-Making:**\n",
        "\n",
        "**Runtime Optimization:**\n",
        "  - If you're deciding on optimal movie lengths for production or distribution, aiming for a runtime in the 90-120 minute range might be beneficial. This is the range where average ratings appear to be the highest.\n",
        "  \n",
        "**Focus on Non-Adult Movies:**\n",
        "   - Non-adult movies tend to receive higher ratings. If your goal is to target a wide audience and achieve higher ratings, focusing on family-friendly or general audience movies might be the best strategy.\n",
        "\n",
        "**Targeting Newer Movies:**\n",
        "   - The trend indicates that newer movies tend to have better ratings. You may want to focus on producing, distributing, or promoting more recent films, as they may have a higher chance of success in terms of audience ratings.\n",
        "\n",
        "**Genre-Specific Focus:**\n",
        "   - Focus on genres like Animation, Comedy, and Adventure, which show consistently higher ratings. If you're involved in content creation or curation, understanding which genres work best will help tailor your movie library or promotional campaigns.\n",
        "  \n",
        "**Optimizing Title Sentiment:**\n",
        "    - Titles with positive or neutral sentiment have better ratings. When choosing titles for future movies or marketing campaigns, consider how the sentiment may impact potential audience perceptions.\n",
        "\n",
        "\n",
        "**By integrating these insights, decision-makers can refine their strategies for movie production, marketing, and distribution. Leveraging factors such as optimal runtime, genre preferences, and sentiment in movie titles can significantly improve movie ratings and audience reception. This can help with content selection, audience targeting, and optimizing investment decisions for the future.**"
      ],
      "metadata": {
        "id": "moNKg8bdxp2a"
      }
    }
  ]
}